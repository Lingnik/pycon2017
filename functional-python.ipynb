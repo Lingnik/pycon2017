{
 "cells": [
  {
   "cell_type": "code",
   "execution_count": 1,
   "metadata": {
    "collapsed": true
   },
   "outputs": [],
   "source": [
    "# Immutable Programming - Writing Functional Python\n",
    "# Cale Pennington @ edX\n",
    "# github.com/cpennington"
   ]
  },
  {
   "cell_type": "code",
   "execution_count": 3,
   "metadata": {},
   "outputs": [],
   "source": [
    "# Python\n",
    "#  Mutable by default (mostly)\n",
    "# Haskell\n",
    "#  Not\n",
    "\n",
    "# Immutability allows local thinking\n",
    "# * Default python objs = transparent box\n",
    "# * Immutable objects more like a brick - primitives (ints, strs, tuples, frozenset())\n",
    "\n",
    "# Tools for local thinking\n",
    "# * @property\n",
    "# * tuple (and namedtuple)\n",
    "# * Commands"
   ]
  },
  {
   "cell_type": "code",
   "execution_count": null,
   "metadata": {},
   "outputs": [],
   "source": [
    "# namedtuple\n",
    "\n",
    "from collections import namedtuple\n",
    "\n",
    "\n",
    "Widgit = namedtuple('Widgit', ['height', 'weight'])\n",
    "x = Widget(10, 20)\n",
    "x.height  # 10\n",
    "x.weight  # 20\n",
    "list(x)   # [10, 20]"
   ]
  }
 ],
 "metadata": {
  "kernelspec": {
   "display_name": "Python 2",
   "language": "python",
   "name": "python2"
  },
  "language_info": {
   "codemirror_mode": {
    "name": "ipython",
    "version": 2.0
   },
   "file_extension": ".py",
   "mimetype": "text/x-python",
   "name": "python",
   "nbconvert_exporter": "python",
   "pygments_lexer": "ipython2",
   "version": "2.7.6"
  }
 },
 "nbformat": 4,
 "nbformat_minor": 0
}